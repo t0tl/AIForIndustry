{
 "cells": [
  {
   "cell_type": "markdown",
   "metadata": {},
   "source": [
    "This is a case based on https://ourworldindata.org/junior-data-scientist-q1-2024"
   ]
  },
  {
   "cell_type": "code",
   "execution_count": 1,
   "metadata": {},
   "outputs": [
    {
     "data": {
      "text/html": [
       "<span style=\"None\">Connecting to &#x27;duckdb:///who.db&#x27;</span>"
      ],
      "text/plain": [
       "Connecting to 'duckdb:///who.db'"
      ]
     },
     "metadata": {},
     "output_type": "display_data"
    }
   ],
   "source": [
    "# !pip install duckdb pandas matplotlib jupysql duckdb-engine --quiet\n",
    "import duckdb\n",
    "import pandas as pd\n",
    "%load_ext sql\n",
    "%sql duckdb:///who.db\n",
    "%config SqlMagic.autopandas = True\n",
    "%config SqlMagic.feedback = False\n",
    "%config SqlMagic.displaycon = False\n",
    "\n",
    "# Alternatively you can skip jupysql and jupyter magics and just use \n",
    "# con = duckdb.connect('who.db')\n",
    "# con.sql(\"SELECT table_name FROM duckdb_tables;\")"
   ]
  },
  {
   "cell_type": "code",
   "execution_count": 2,
   "metadata": {
    "vscode": {
     "languageId": "sql"
    }
   },
   "outputs": [
    {
     "data": {
      "text/html": [
       "<div>\n",
       "<style scoped>\n",
       "    .dataframe tbody tr th:only-of-type {\n",
       "        vertical-align: middle;\n",
       "    }\n",
       "\n",
       "    .dataframe tbody tr th {\n",
       "        vertical-align: top;\n",
       "    }\n",
       "\n",
       "    .dataframe thead th {\n",
       "        text-align: right;\n",
       "    }\n",
       "</style>\n",
       "<table border=\"1\" class=\"dataframe\">\n",
       "  <thead>\n",
       "    <tr style=\"text-align: right;\">\n",
       "      <th></th>\n",
       "      <th>table_name</th>\n",
       "    </tr>\n",
       "  </thead>\n",
       "  <tbody>\n",
       "    <tr>\n",
       "      <th>0</th>\n",
       "      <td>copd</td>\n",
       "    </tr>\n",
       "    <tr>\n",
       "      <th>1</th>\n",
       "      <td>population</td>\n",
       "    </tr>\n",
       "    <tr>\n",
       "      <th>2</th>\n",
       "      <td>standard_pop</td>\n",
       "    </tr>\n",
       "  </tbody>\n",
       "</table>\n",
       "</div>"
      ],
      "text/plain": [
       "     table_name\n",
       "0          copd\n",
       "1    population\n",
       "2  standard_pop"
      ]
     },
     "execution_count": 2,
     "metadata": {},
     "output_type": "execute_result"
    }
   ],
   "source": [
    "%sql SELECT table_name FROM duckdb_tables;"
   ]
  },
  {
   "cell_type": "code",
   "execution_count": 3,
   "metadata": {
    "vscode": {
     "languageId": "sql"
    }
   },
   "outputs": [
    {
     "data": {
      "text/html": [
       "<div>\n",
       "<style scoped>\n",
       "    .dataframe tbody tr th:only-of-type {\n",
       "        vertical-align: middle;\n",
       "    }\n",
       "\n",
       "    .dataframe tbody tr th {\n",
       "        vertical-align: top;\n",
       "    }\n",
       "\n",
       "    .dataframe thead th {\n",
       "        text-align: right;\n",
       "    }\n",
       "</style>\n",
       "<table border=\"1\" class=\"dataframe\">\n",
       "  <thead>\n",
       "    <tr style=\"text-align: right;\">\n",
       "      <th></th>\n",
       "      <th>age_group</th>\n",
       "      <th>USA_death_rate</th>\n",
       "      <th>UGA_death_rate</th>\n",
       "    </tr>\n",
       "  </thead>\n",
       "  <tbody>\n",
       "    <tr>\n",
       "      <th>0</th>\n",
       "      <td>0-4</td>\n",
       "      <td>0.04</td>\n",
       "      <td>0.40</td>\n",
       "    </tr>\n",
       "    <tr>\n",
       "      <th>1</th>\n",
       "      <td>5-9</td>\n",
       "      <td>0.02</td>\n",
       "      <td>0.17</td>\n",
       "    </tr>\n",
       "    <tr>\n",
       "      <th>2</th>\n",
       "      <td>10-14</td>\n",
       "      <td>0.02</td>\n",
       "      <td>0.07</td>\n",
       "    </tr>\n",
       "    <tr>\n",
       "      <th>3</th>\n",
       "      <td>15-19</td>\n",
       "      <td>0.02</td>\n",
       "      <td>0.23</td>\n",
       "    </tr>\n",
       "    <tr>\n",
       "      <th>4</th>\n",
       "      <td>20-24</td>\n",
       "      <td>0.06</td>\n",
       "      <td>0.38</td>\n",
       "    </tr>\n",
       "    <tr>\n",
       "      <th>5</th>\n",
       "      <td>25-29</td>\n",
       "      <td>0.11</td>\n",
       "      <td>0.40</td>\n",
       "    </tr>\n",
       "    <tr>\n",
       "      <th>6</th>\n",
       "      <td>30-34</td>\n",
       "      <td>0.29</td>\n",
       "      <td>0.75</td>\n",
       "    </tr>\n",
       "    <tr>\n",
       "      <th>7</th>\n",
       "      <td>35-39</td>\n",
       "      <td>0.56</td>\n",
       "      <td>1.11</td>\n",
       "    </tr>\n",
       "    <tr>\n",
       "      <th>8</th>\n",
       "      <td>40-44</td>\n",
       "      <td>1.42</td>\n",
       "      <td>2.04</td>\n",
       "    </tr>\n",
       "    <tr>\n",
       "      <th>9</th>\n",
       "      <td>45-49</td>\n",
       "      <td>4.00</td>\n",
       "      <td>5.51</td>\n",
       "    </tr>\n",
       "    <tr>\n",
       "      <th>10</th>\n",
       "      <td>50-54</td>\n",
       "      <td>14.13</td>\n",
       "      <td>13.26</td>\n",
       "    </tr>\n",
       "    <tr>\n",
       "      <th>11</th>\n",
       "      <td>55-59</td>\n",
       "      <td>37.22</td>\n",
       "      <td>33.25</td>\n",
       "    </tr>\n",
       "    <tr>\n",
       "      <th>12</th>\n",
       "      <td>60-64</td>\n",
       "      <td>66.48</td>\n",
       "      <td>69.62</td>\n",
       "    </tr>\n",
       "    <tr>\n",
       "      <th>13</th>\n",
       "      <td>65-69</td>\n",
       "      <td>108.66</td>\n",
       "      <td>120.78</td>\n",
       "    </tr>\n",
       "    <tr>\n",
       "      <th>14</th>\n",
       "      <td>70-74</td>\n",
       "      <td>213.10</td>\n",
       "      <td>229.88</td>\n",
       "    </tr>\n",
       "    <tr>\n",
       "      <th>15</th>\n",
       "      <td>75-79</td>\n",
       "      <td>333.06</td>\n",
       "      <td>341.06</td>\n",
       "    </tr>\n",
       "    <tr>\n",
       "      <th>16</th>\n",
       "      <td>80-84</td>\n",
       "      <td>491.10</td>\n",
       "      <td>529.31</td>\n",
       "    </tr>\n",
       "    <tr>\n",
       "      <th>17</th>\n",
       "      <td>85+</td>\n",
       "      <td>894.45</td>\n",
       "      <td>710.40</td>\n",
       "    </tr>\n",
       "  </tbody>\n",
       "</table>\n",
       "</div>"
      ],
      "text/plain": [
       "   age_group  USA_death_rate  UGA_death_rate\n",
       "0        0-4            0.04            0.40\n",
       "1        5-9            0.02            0.17\n",
       "2      10-14            0.02            0.07\n",
       "3      15-19            0.02            0.23\n",
       "4      20-24            0.06            0.38\n",
       "5      25-29            0.11            0.40\n",
       "6      30-34            0.29            0.75\n",
       "7      35-39            0.56            1.11\n",
       "8      40-44            1.42            2.04\n",
       "9      45-49            4.00            5.51\n",
       "10     50-54           14.13           13.26\n",
       "11     55-59           37.22           33.25\n",
       "12     60-64           66.48           69.62\n",
       "13     65-69          108.66          120.78\n",
       "14     70-74          213.10          229.88\n",
       "15     75-79          333.06          341.06\n",
       "16     80-84          491.10          529.31\n",
       "17       85+          894.45          710.40"
      ]
     },
     "execution_count": 3,
     "metadata": {},
     "output_type": "execute_result"
    }
   ],
   "source": [
    "%sql copd_df << SELECT * FROM copd;\n",
    "copd_df"
   ]
  },
  {
   "cell_type": "markdown",
   "metadata": {},
   "source": [
    "This is how you can export the two other tables into pandas dataframes if you want to use pandas."
   ]
  },
  {
   "cell_type": "code",
   "execution_count": 4,
   "metadata": {
    "vscode": {
     "languageId": "sql"
    }
   },
   "outputs": [],
   "source": [
    "%sql pop_df << SELECT * FROM population;"
   ]
  },
  {
   "cell_type": "code",
   "execution_count": 5,
   "metadata": {
    "vscode": {
     "languageId": "sql"
    }
   },
   "outputs": [],
   "source": [
    "%sql standard_df << SELECT * FROM standard_pop;"
   ]
  },
  {
   "cell_type": "markdown",
   "metadata": {},
   "source": [
    "Let's checkout if we have any null values in the dataset. When doing data science you always have to question the validity of the data. If your understanding of the data is not correct, you will not be able to make accurate predictions. \n",
    "\n",
    "For example, in this case we want to only look at the subset of data which is Uganda and USA during the year 2019. If a row has a null value in the country or year column, we will mistakenly not include that row."
   ]
  },
  {
   "cell_type": "code",
   "execution_count": 6,
   "metadata": {},
   "outputs": [
    {
     "data": {
      "text/plain": [
       "Notes        1527120.0\n",
       "ISO3_code     356328.0\n",
       "ISO2_code     363600.0\n",
       "SDMX_code      29088.0\n",
       "dtype: float64"
      ]
     },
     "execution_count": 6,
     "metadata": {},
     "output_type": "execute_result"
    }
   ],
   "source": [
    "pop_df.isna().sum().where(lambda x: x > 0).dropna()\n",
    "# Notes is not of interest to us.\n",
    "# Most NA values stem from a non country data grouping like Location=\"World\"\n",
    "# However, it seems like ISO3_code and ISO2_code do not always match."
   ]
  },
  {
   "cell_type": "code",
   "execution_count": 7,
   "metadata": {
    "vscode": {
     "languageId": "sql"
    }
   },
   "outputs": [
    {
     "data": {
      "text/html": [
       "<div>\n",
       "<style scoped>\n",
       "    .dataframe tbody tr th:only-of-type {\n",
       "        vertical-align: middle;\n",
       "    }\n",
       "\n",
       "    .dataframe tbody tr th {\n",
       "        vertical-align: top;\n",
       "    }\n",
       "\n",
       "    .dataframe thead th {\n",
       "        text-align: right;\n",
       "    }\n",
       "</style>\n",
       "<table border=\"1\" class=\"dataframe\">\n",
       "  <thead>\n",
       "    <tr style=\"text-align: right;\">\n",
       "      <th></th>\n",
       "      <th>Location</th>\n",
       "    </tr>\n",
       "  </thead>\n",
       "  <tbody>\n",
       "    <tr>\n",
       "      <th>0</th>\n",
       "      <td>Namibia</td>\n",
       "    </tr>\n",
       "  </tbody>\n",
       "</table>\n",
       "</div>"
      ],
      "text/plain": [
       "  Location\n",
       "0  Namibia"
      ]
     },
     "execution_count": 7,
     "metadata": {},
     "output_type": "execute_result"
    }
   ],
   "source": [
    "%%sql\n",
    "-- pd_df[pd_df[\"ISO2_code\"].isna() != pd_df[\"ISO3_code\"].isna()].Location.unique()\n",
    "SELECT \n",
    "    DISTINCT Location\n",
    "FROM population\n",
    "WHERE (ISO2_code IS NULL) != (ISO3_code IS NULL);"
   ]
  },
  {
   "cell_type": "markdown",
   "metadata": {},
   "source": [
    "It turns out Namibia has a ISO-2 code of NA. This is a problem because NA is also the default value for pandas to represent null values. This means that when we read the data into a pandas dataframe, it will interpret the NA values as null values.\n",
    "\n",
    "Perhaps the original data was a csv and it was read by pandas,\n",
    "with the default value for \"NA\" as None before being written to the database."
   ]
  },
  {
   "cell_type": "code",
   "execution_count": 8,
   "metadata": {
    "vscode": {
     "languageId": "sql"
    }
   },
   "outputs": [],
   "source": [
    "%%sql df_2019_US_UG <<\n",
    "-- df_2019_US_UG = pd_df[(pd_df[\"Time\"] == 2019) & (pd_df[\"ISO3_code\"].isin([\"USA\", \"UGA\"]))]\n",
    "SELECT * FROM population WHERE Time = 2019 AND ISO3_code IN ('USA', 'UGA');"
   ]
  },
  {
   "cell_type": "code",
   "execution_count": 9,
   "metadata": {
    "vscode": {
     "languageId": "sql"
    }
   },
   "outputs": [
    {
     "data": {
      "text/html": [
       "<div>\n",
       "<style scoped>\n",
       "    .dataframe tbody tr th:only-of-type {\n",
       "        vertical-align: middle;\n",
       "    }\n",
       "\n",
       "    .dataframe tbody tr th {\n",
       "        vertical-align: top;\n",
       "    }\n",
       "\n",
       "    .dataframe thead th {\n",
       "        text-align: right;\n",
       "    }\n",
       "</style>\n",
       "<table border=\"1\" class=\"dataframe\">\n",
       "  <thead>\n",
       "    <tr style=\"text-align: right;\">\n",
       "      <th></th>\n",
       "      <th>AgeGrpStart</th>\n",
       "    </tr>\n",
       "  </thead>\n",
       "  <tbody>\n",
       "    <tr>\n",
       "      <th>0</th>\n",
       "      <td>100</td>\n",
       "    </tr>\n",
       "    <tr>\n",
       "      <th>1</th>\n",
       "      <td>99</td>\n",
       "    </tr>\n",
       "    <tr>\n",
       "      <th>2</th>\n",
       "      <td>98</td>\n",
       "    </tr>\n",
       "    <tr>\n",
       "      <th>3</th>\n",
       "      <td>97</td>\n",
       "    </tr>\n",
       "    <tr>\n",
       "      <th>4</th>\n",
       "      <td>96</td>\n",
       "    </tr>\n",
       "  </tbody>\n",
       "</table>\n",
       "</div>"
      ],
      "text/plain": [
       "   AgeGrpStart\n",
       "0          100\n",
       "1           99\n",
       "2           98\n",
       "3           97\n",
       "4           96"
      ]
     },
     "execution_count": 9,
     "metadata": {},
     "output_type": "execute_result"
    }
   ],
   "source": [
    "%%sql\n",
    "-- df_2019_US_UG.AgeGrpStart.unique()\n",
    "SELECT DISTINCT AgeGrpStart FROM df_2019_US_UG ORDER BY AgeGrpStart DESC LIMIT 5;\n"
   ]
  },
  {
   "cell_type": "code",
   "execution_count": 10,
   "metadata": {
    "vscode": {
     "languageId": "sql"
    }
   },
   "outputs": [
    {
     "data": {
      "text/html": [
       "<div>\n",
       "<style scoped>\n",
       "    .dataframe tbody tr th:only-of-type {\n",
       "        vertical-align: middle;\n",
       "    }\n",
       "\n",
       "    .dataframe tbody tr th {\n",
       "        vertical-align: top;\n",
       "    }\n",
       "\n",
       "    .dataframe thead th {\n",
       "        text-align: right;\n",
       "    }\n",
       "</style>\n",
       "<table border=\"1\" class=\"dataframe\">\n",
       "  <thead>\n",
       "    <tr style=\"text-align: right;\">\n",
       "      <th></th>\n",
       "      <th>age_group</th>\n",
       "    </tr>\n",
       "  </thead>\n",
       "  <tbody>\n",
       "    <tr>\n",
       "      <th>0</th>\n",
       "      <td>85+</td>\n",
       "    </tr>\n",
       "    <tr>\n",
       "      <th>1</th>\n",
       "      <td>80-84</td>\n",
       "    </tr>\n",
       "    <tr>\n",
       "      <th>2</th>\n",
       "      <td>75-79</td>\n",
       "    </tr>\n",
       "    <tr>\n",
       "      <th>3</th>\n",
       "      <td>70-74</td>\n",
       "    </tr>\n",
       "    <tr>\n",
       "      <th>4</th>\n",
       "      <td>65-69</td>\n",
       "    </tr>\n",
       "  </tbody>\n",
       "</table>\n",
       "</div>"
      ],
      "text/plain": [
       "  age_group\n",
       "0       85+\n",
       "1     80-84\n",
       "2     75-79\n",
       "3     70-74\n",
       "4     65-69"
      ]
     },
     "execution_count": 10,
     "metadata": {},
     "output_type": "execute_result"
    }
   ],
   "source": [
    "%%sql\n",
    "SELECT \n",
    "    age_group\n",
    "FROM copd\n",
    "ORDER BY age_group DESC\n",
    "LIMIT 5;"
   ]
  },
  {
   "cell_type": "markdown",
   "metadata": {},
   "source": [
    "The ages we have in the population table does not align with the age groups in the COPD table. In the COPD table we stop at \"85+\". The COPD table also has bins which span 5 years. Lets adjust the bins in the population table to align with the COPD table."
   ]
  },
  {
   "cell_type": "code",
   "execution_count": 11,
   "metadata": {},
   "outputs": [
    {
     "data": {
      "text/html": [
       "<div>\n",
       "<style scoped>\n",
       "    .dataframe tbody tr th:only-of-type {\n",
       "        vertical-align: middle;\n",
       "    }\n",
       "\n",
       "    .dataframe tbody tr th {\n",
       "        vertical-align: top;\n",
       "    }\n",
       "\n",
       "    .dataframe thead th {\n",
       "        text-align: right;\n",
       "    }\n",
       "</style>\n",
       "<table border=\"1\" class=\"dataframe\">\n",
       "  <thead>\n",
       "    <tr style=\"text-align: right;\">\n",
       "      <th></th>\n",
       "      <th>age_group</th>\n",
       "      <th>age_span</th>\n",
       "    </tr>\n",
       "  </thead>\n",
       "  <tbody>\n",
       "    <tr>\n",
       "      <th>0</th>\n",
       "      <td>0-4</td>\n",
       "      <td>[0, 1, 2, 3, 4]</td>\n",
       "    </tr>\n",
       "    <tr>\n",
       "      <th>1</th>\n",
       "      <td>5-9</td>\n",
       "      <td>[5, 6, 7, 8, 9]</td>\n",
       "    </tr>\n",
       "    <tr>\n",
       "      <th>2</th>\n",
       "      <td>10-14</td>\n",
       "      <td>[10, 11, 12, 13, 14]</td>\n",
       "    </tr>\n",
       "    <tr>\n",
       "      <th>3</th>\n",
       "      <td>15-19</td>\n",
       "      <td>[15, 16, 17, 18, 19]</td>\n",
       "    </tr>\n",
       "    <tr>\n",
       "      <th>4</th>\n",
       "      <td>20-24</td>\n",
       "      <td>[20, 21, 22, 23, 24]</td>\n",
       "    </tr>\n",
       "  </tbody>\n",
       "</table>\n",
       "</div>"
      ],
      "text/plain": [
       "  age_group              age_span\n",
       "0       0-4       [0, 1, 2, 3, 4]\n",
       "1       5-9       [5, 6, 7, 8, 9]\n",
       "2     10-14  [10, 11, 12, 13, 14]\n",
       "3     15-19  [15, 16, 17, 18, 19]\n",
       "4     20-24  [20, 21, 22, 23, 24]"
      ]
     },
     "execution_count": 11,
     "metadata": {},
     "output_type": "execute_result"
    }
   ],
   "source": [
    "MIN_AGE = 0\n",
    "MAX_AGE = 84\n",
    "\n",
    "# We make a function because zip is a generator and we want to be able to reuse it.\n",
    "start_end_tuples = lambda: zip(range(MIN_AGE, MAX_AGE+5, 5), range(MIN_AGE+5, MAX_AGE+5, 5))\n",
    "\n",
    "bins = [list(range(start, end)) for start, end in start_end_tuples()]\n",
    "names = [f\"{start}-{end-1}\" for start, end in start_end_tuples()]\n",
    "\n",
    "names.append(\"85+\")\n",
    "bins.append(list(range(MAX_AGE+1, 101)))\n",
    "pd.DataFrame({\"age_group\": names, \"age_span\": bins}).head()"
   ]
  },
  {
   "cell_type": "code",
   "execution_count": 12,
   "metadata": {
    "vscode": {
     "languageId": "sql"
    }
   },
   "outputs": [],
   "source": [
    "map_df = pd.DataFrame({\"age_group\": names, \"age_span\": bins, \"age_group_id\": range(0, len(names))})"
   ]
  },
  {
   "cell_type": "code",
   "execution_count": 13,
   "metadata": {
    "vscode": {
     "languageId": "sql"
    }
   },
   "outputs": [],
   "source": [
    "%%sql binned_2019_df <<\n",
    "-- map_df = map_df.explode(\"age_span\")\n",
    "-- binned_2019_df = df_2019_US_UG.merge(map_df, left_on=\"AgeGrpStart\", right_on=\"age_span\")\n",
    "WITH age_bins AS (\n",
    "    -- explode/unnest age_span\n",
    "    SELECT\n",
    "        age_group,\n",
    "        UNNEST(age_span) AS age_span,\n",
    "        age_group_id\n",
    "    FROM map_df\n",
    ")\n",
    "SELECT * FROM df_2019_US_UG\n",
    "LEFT JOIN age_bins ON df_2019_US_UG.AgeGrpStart = age_bins.age_span;"
   ]
  },
  {
   "cell_type": "code",
   "execution_count": 14,
   "metadata": {
    "vscode": {
     "languageId": "sql"
    }
   },
   "outputs": [],
   "source": [
    "%%sql pivot_df <<\n",
    "-- pivot_df = (binned_2019_df.assign(PopTotal=lambda x: x.PopTotal * 1000)\n",
    "--     .groupby([\"ISO3_code\", \"age_group\"], as_index=False)\n",
    "--     .agg({\"PopTotal\": \"sum\"})\n",
    "--     .pivot(index=\"age_group\", columns=\"ISO3_code\", values=\"PopTotal\")\n",
    "--     # Reset index to let us use age_group as a column\n",
    "--     .reset_index()\n",
    "--     # Rename the pivoted columns for better description\n",
    "--     .rename(columns={\"USA\": \"USA_pop\", \"UGA\": \"UGA_pop\"})\n",
    "--     )\n",
    "WITH pop_total AS (\n",
    "    SELECT\n",
    "        ISO3_code,\n",
    "        age_group,\n",
    "        -- The Population column is in thousands so we transform it\n",
    "        SUM(PopTotal * 1000) AS PopTotal,\n",
    "        age_group_id\n",
    "    FROM binned_2019_df\n",
    "    GROUP BY ISO3_code, age_group, age_group_id\n",
    ")\n",
    "SELECT * FROM pop_total\n",
    "PIVOT (\n",
    "    SUM(PopTotal) FOR ISO3_code IN ('USA', 'UGA')\n",
    ")\n",
    "ORDER BY age_group_id;\n"
   ]
  },
  {
   "cell_type": "code",
   "execution_count": 15,
   "metadata": {},
   "outputs": [
    {
     "data": {
      "text/html": [
       "<div>\n",
       "<style scoped>\n",
       "    .dataframe tbody tr th:only-of-type {\n",
       "        vertical-align: middle;\n",
       "    }\n",
       "\n",
       "    .dataframe tbody tr th {\n",
       "        vertical-align: top;\n",
       "    }\n",
       "\n",
       "    .dataframe thead th {\n",
       "        text-align: right;\n",
       "    }\n",
       "</style>\n",
       "<table border=\"1\" class=\"dataframe\">\n",
       "  <thead>\n",
       "    <tr style=\"text-align: right;\">\n",
       "      <th></th>\n",
       "      <th>age_group</th>\n",
       "      <th>age_group_id</th>\n",
       "      <th>USA</th>\n",
       "      <th>UGA</th>\n",
       "    </tr>\n",
       "  </thead>\n",
       "  <tbody>\n",
       "    <tr>\n",
       "      <th>13</th>\n",
       "      <td>65-69</td>\n",
       "      <td>13</td>\n",
       "      <td>17500872.0</td>\n",
       "      <td>353221.0</td>\n",
       "    </tr>\n",
       "    <tr>\n",
       "      <th>14</th>\n",
       "      <td>70-74</td>\n",
       "      <td>14</td>\n",
       "      <td>13688596.0</td>\n",
       "      <td>197169.0</td>\n",
       "    </tr>\n",
       "    <tr>\n",
       "      <th>15</th>\n",
       "      <td>75-79</td>\n",
       "      <td>15</td>\n",
       "      <td>9272809.0</td>\n",
       "      <td>92681.0</td>\n",
       "    </tr>\n",
       "    <tr>\n",
       "      <th>16</th>\n",
       "      <td>80-84</td>\n",
       "      <td>16</td>\n",
       "      <td>6118866.0</td>\n",
       "      <td>43894.0</td>\n",
       "    </tr>\n",
       "    <tr>\n",
       "      <th>17</th>\n",
       "      <td>85+</td>\n",
       "      <td>17</td>\n",
       "      <td>6213955.0</td>\n",
       "      <td>19704.0</td>\n",
       "    </tr>\n",
       "  </tbody>\n",
       "</table>\n",
       "</div>"
      ],
      "text/plain": [
       "   age_group  age_group_id         USA       UGA\n",
       "13     65-69            13  17500872.0  353221.0\n",
       "14     70-74            14  13688596.0  197169.0\n",
       "15     75-79            15   9272809.0   92681.0\n",
       "16     80-84            16   6118866.0   43894.0\n",
       "17       85+            17   6213955.0   19704.0"
      ]
     },
     "execution_count": 15,
     "metadata": {},
     "output_type": "execute_result"
    }
   ],
   "source": [
    "pivot_df.tail()"
   ]
  },
  {
   "cell_type": "code",
   "execution_count": 16,
   "metadata": {
    "vscode": {
     "languageId": "sql"
    }
   },
   "outputs": [],
   "source": [
    "%%sql copd_death_df <<\n",
    "SELECT * FROM copd_df JOIN pivot_df USING (age_group);"
   ]
  },
  {
   "cell_type": "code",
   "execution_count": 17,
   "metadata": {},
   "outputs": [],
   "source": [
    "copd_death_df[\"USA_pop\"] = copd_death_df[\"USA\"]\n",
    "copd_death_df[\"UGA_pop\"] = copd_death_df[\"UGA\"]"
   ]
  },
  {
   "cell_type": "code",
   "execution_count": 18,
   "metadata": {},
   "outputs": [
    {
     "name": "stdout",
     "output_type": "stream",
     "text": [
      "USA crude death rate from COPD per 100k people: 57.2\n"
     ]
    }
   ],
   "source": [
    "USA_deaths_COPD_100k = sum(copd_death_df[\"USA_death_rate\"]/100_000 * copd_death_df[\"USA_pop\"]) / sum(copd_death_df[\"USA_pop\"]) * 100_000\n",
    "print(f\"USA crude death rate from COPD per 100k people: {USA_deaths_COPD_100k:.1f}\")"
   ]
  },
  {
   "cell_type": "code",
   "execution_count": 19,
   "metadata": {},
   "outputs": [
    {
     "name": "stdout",
     "output_type": "stream",
     "text": [
      "Uganda crude death rate from COPD per 100k people: 5.8\n"
     ]
    }
   ],
   "source": [
    "UGA_deaths_COPD_100k = sum(copd_death_df[\"UGA_death_rate\"]/100_000 * copd_death_df[\"UGA_pop\"]) / sum(copd_death_df[\"UGA_pop\"]) * 100_000\n",
    "print(f\"Uganda crude death rate from COPD per 100k people: {UGA_deaths_COPD_100k:.1f}\")"
   ]
  },
  {
   "cell_type": "markdown",
   "metadata": {},
   "source": [
    "It looks like USA has a lot death rate from COPD compared to Uganda. This is interesting because the death rate by age group is very similar, confirmed by the plot below. What's wrong with our number? It turns out that the population of the US and Uganda are different. In the US, people live longer and hence the overall death rate is higher, as risk of dying from COPD increases with age."
   ]
  },
  {
   "cell_type": "code",
   "execution_count": 20,
   "metadata": {},
   "outputs": [
    {
     "data": {
      "text/plain": [
       "<Axes: xlabel='age_group'>"
      ]
     },
     "execution_count": 20,
     "metadata": {},
     "output_type": "execute_result"
    },
    {
     "data": {
      "image/png": "[encoded data removed]",
      "text/plain": [
       "<Figure size 640x480 with 1 Axes>"
      ]
     },
     "metadata": {},
     "output_type": "display_data"
    }
   ],
   "source": [
    "# We see that Uganda has a infant mortality rate higher than the USA due to COPD.\n",
    "# We can also see that COPD has a higher death rate as age increases.\n",
    "\n",
    "# Note theres also a package called sqlplot but if you are interested you can look that up yourself.\n",
    "copd_df.plot(x=\"age_group\", y=[\"USA_death_rate\", \"UGA_death_rate\"], kind=\"line\", logy=True)"
   ]
  },
  {
   "cell_type": "code",
   "execution_count": 21,
   "metadata": {},
   "outputs": [
    {
     "data": {
      "text/plain": [
       "<Axes: xlabel='age_group'>"
      ]
     },
     "execution_count": 21,
     "metadata": {},
     "output_type": "execute_result"
    },
    {
     "data": {
      "image/png": "[encoded data removed]",
      "text/plain": [
       "<Figure size 640x480 with 1 Axes>"
      ]
     },
     "metadata": {},
     "output_type": "display_data"
    }
   ],
   "source": [
    "# We can also see that the USA has a similar population for all age groups until 85+\n",
    "# meanwhile Uganda has a young population\n",
    "pivot_df.plot(x=\"age_group\", y=[\"USA\", \"UGA\"], kind=\"line\", logy=True)"
   ]
  },
  {
   "cell_type": "markdown",
   "metadata": {},
   "source": [
    "What can we do to make our number tell an accurate story? We can use the world average population instead of country specific population. This will give us a better understanding of the risk of dying from COPD in a country, baked into our per 100k number."
   ]
  },
  {
   "cell_type": "code",
   "execution_count": 22,
   "metadata": {
    "vscode": {
     "languageId": "sql"
    }
   },
   "outputs": [],
   "source": [
    "%%sql standardized_df <<\n",
    "-- standardized_df = copd_death_df.merge(standard_df, on=\"age_group\")\n",
    "SELECT * \n",
    "FROM copd_death_df\n",
    "LEFT JOIN standard_pop \n",
    "    ON copd_death_df.age_group = standard_pop.age_group"
   ]
  },
  {
   "cell_type": "code",
   "execution_count": 23,
   "metadata": {},
   "outputs": [],
   "source": [
    "standardized_df[\"WHO_standard_rate\"] = standardized_df[\"WHO_Standard\"] / sum(standardized_df[\"WHO_Standard\"])"
   ]
  },
  {
   "cell_type": "code",
   "execution_count": 24,
   "metadata": {},
   "outputs": [
    {
     "name": "stdout",
     "output_type": "stream",
     "text": [
      "USA death rate from COPD per 100k standardized: 28.4\n"
     ]
    }
   ],
   "source": [
    "USA_death_rate_standardized = sum(standardized_df[\"USA_death_rate\"] * standardized_df[\"WHO_standard_rate\"])\n",
    "print(f\"USA death rate from COPD per 100k standardized: {USA_death_rate_standardized:.1f}\")"
   ]
  },
  {
   "cell_type": "code",
   "execution_count": 25,
   "metadata": {},
   "outputs": [
    {
     "name": "stdout",
     "output_type": "stream",
     "text": [
      "Uganda death rate from COPD per 100k standardized: 28.7\n"
     ]
    }
   ],
   "source": [
    "UGA_death_rate_standardized = sum(standardized_df[\"UGA_death_rate\"] * standardized_df[\"WHO_standard_rate\"])\n",
    "print(f\"Uganda death rate from COPD per 100k standardized: {UGA_death_rate_standardized:.1f}\")"
   ]
  },
  {
   "cell_type": "markdown",
   "metadata": {},
   "source": [
    "When using the world average population we see that the death rate from COPD is higher in Uganda than in the US. This is a good example of how data can tell a different story than what you might expect."
   ]
  }
 ],
 "metadata": {
  "kernelspec": {
   "display_name": "Python 3",
   "language": "python",
   "name": "python3"
  },
  "language_info": {
   "codemirror_mode": {
    "name": "ipython",
    "version": 3
   },
   "file_extension": ".py",
   "mimetype": "text/x-python",
   "name": "python",
   "nbconvert_exporter": "python",
   "pygments_lexer": "ipython3",
   "version": "3.10.12"
  }
 },
 "nbformat": 4,
 "nbformat_minor": 2
}
